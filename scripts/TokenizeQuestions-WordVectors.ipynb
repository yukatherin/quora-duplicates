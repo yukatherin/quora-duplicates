{
 "cells": [
  {
   "cell_type": "markdown",
   "metadata": {},
   "source": [
    "setup:\n",
    "\n",
    "* pip install ipython-autotime\n",
    "* pip install pyenchant"
   ]
  },
  {
   "cell_type": "code",
   "execution_count": 1,
   "metadata": {
    "collapsed": false
   },
   "outputs": [],
   "source": [
    "import nltk\n",
    "# nltk.download() #punkt"
   ]
  },
  {
   "cell_type": "code",
   "execution_count": 28,
   "metadata": {
    "collapsed": false
   },
   "outputs": [
    {
     "name": "stdout",
     "output_type": "stream",
     "text": [
      "The autotime extension is already loaded. To reload it, use:\n",
      "  %reload_ext autotime\n",
      "Populating the interactive namespace from numpy and matplotlib\n",
      "time: 137 ms\n"
     ]
    },
    {
     "name": "stderr",
     "output_type": "stream",
     "text": [
      "/Users/kyu/anaconda2/lib/python2.7/site-packages/IPython/core/magics/pylab.py:161: UserWarning: pylab import has clobbered these variables: ['f']\n",
      "`%matplotlib` prevents importing * from pylab and numpy\n",
      "  \"\\n`%matplotlib` prevents importing * from pylab and numpy\"\n"
     ]
    }
   ],
   "source": [
    "%load_ext autotime\n",
    "%pylab inline\n",
    "from __future__ import unicode_literals\n",
    "import pandas as pd\n",
    "import multiprocessing as mp\n",
    "# from nltk.tokenize.stanford import StanfordTokenizer\n",
    "import sys, re, json, csv, time, pickle\n",
    "sys.path.append('quora-duplicates/')\n",
    "import enchant\n",
    "from enchant.checker import SpellChecker\n",
    "# from utils.spellcheck import spell_check"
   ]
  },
  {
   "cell_type": "code",
   "execution_count": 29,
   "metadata": {
    "collapsed": false
   },
   "outputs": [
    {
     "name": "stdout",
     "output_type": "stream",
     "text": [
      "loading data...\n",
      "(404351, 6)\n"
     ]
    },
    {
     "data": {
      "text/html": [
       "<div>\n",
       "<table border=\"1\" class=\"dataframe\">\n",
       "  <thead>\n",
       "    <tr style=\"text-align: right;\">\n",
       "      <th></th>\n",
       "      <th>id</th>\n",
       "      <th>qid1</th>\n",
       "      <th>qid2</th>\n",
       "      <th>question1</th>\n",
       "      <th>question2</th>\n",
       "      <th>is_duplicate</th>\n",
       "    </tr>\n",
       "  </thead>\n",
       "  <tbody>\n",
       "    <tr>\n",
       "      <th>0</th>\n",
       "      <td>0</td>\n",
       "      <td>1</td>\n",
       "      <td>2</td>\n",
       "      <td>What is the step by step guide to invest in sh...</td>\n",
       "      <td>What is the step by step guide to invest in sh...</td>\n",
       "      <td>0</td>\n",
       "    </tr>\n",
       "    <tr>\n",
       "      <th>1</th>\n",
       "      <td>1</td>\n",
       "      <td>3</td>\n",
       "      <td>4</td>\n",
       "      <td>What is the story of Kohinoor (Koh-i-Noor) Dia...</td>\n",
       "      <td>What would happen if the Indian government sto...</td>\n",
       "      <td>0</td>\n",
       "    </tr>\n",
       "  </tbody>\n",
       "</table>\n",
       "</div>"
      ],
      "text/plain": [
       "   id  qid1  qid2                                          question1  \\\n",
       "0   0     1     2  What is the step by step guide to invest in sh...   \n",
       "1   1     3     4  What is the story of Kohinoor (Koh-i-Noor) Dia...   \n",
       "\n",
       "                                           question2  is_duplicate  \n",
       "0  What is the step by step guide to invest in sh...             0  \n",
       "1  What would happen if the Indian government sto...             0  "
      ]
     },
     "execution_count": 29,
     "metadata": {},
     "output_type": "execute_result"
    },
    {
     "name": "stdout",
     "output_type": "stream",
     "text": [
      "time: 3.9 s\n"
     ]
    }
   ],
   "source": [
    "print 'loading data...'\n",
    "quora = pd.read_csv('data/quora_duplicate_questions.tsv', sep='\\t', encoding='utf-8')\n",
    "print quora.shape\n",
    "quora.head(2)"
   ]
  },
  {
   "cell_type": "code",
   "execution_count": 4,
   "metadata": {
    "collapsed": false
   },
   "outputs": [
    {
     "data": {
      "text/plain": [
       "0    0.630752\n",
       "1    0.369248\n",
       "Name: is_duplicate, dtype: float64"
      ]
     },
     "execution_count": 4,
     "metadata": {},
     "output_type": "execute_result"
    },
    {
     "name": "stdout",
     "output_type": "stream",
     "text": [
      "time: 8.25 ms\n"
     ]
    }
   ],
   "source": [
    "quora.is_duplicate.value_counts()/float(quora.shape[0])"
   ]
  },
  {
   "cell_type": "markdown",
   "metadata": {},
   "source": [
    "## Spell-checker"
   ]
  },
  {
   "cell_type": "code",
   "execution_count": 5,
   "metadata": {
    "collapsed": false
   },
   "outputs": [
    {
     "name": "stdout",
     "output_type": "stream",
     "text": [
      "time: 8.65 ms\n"
     ]
    }
   ],
   "source": [
    "# https://www.packtpub.com/mapt/book/application-development/9781782167853/2/ch02lvl1sec23/spelling-correction-with-enchant\n",
    "import enchant\n",
    "from nltk.metrics import edit_distance\n",
    "\n",
    "class SpellingReplacer(object):\n",
    "  def __init__(self, dict_name='en', max_dist=2):\n",
    "    self.spell_dict = enchant.Dict(dict_name)\n",
    "    self.max_dist = max_dist\n",
    "\n",
    "  def replace(self, words):\n",
    "    corrected_words = list()\n",
    "    for word in words:\n",
    "        if self.spell_dict.check(word):\n",
    "            corrected_words.append(word)\n",
    "            continue\n",
    "        suggestions = self.spell_dict.suggest(word)\n",
    "        if suggestions and edit_distance(word, suggestions[0]) <= self.max_dist:\n",
    "          corrected_words.append(suggestions[0])\n",
    "        else:\n",
    "          corrected_words.append(word)\n",
    "    return corrected_words"
   ]
  },
  {
   "cell_type": "code",
   "execution_count": 6,
   "metadata": {
    "collapsed": false
   },
   "outputs": [
    {
     "name": "stdout",
     "output_type": "stream",
     "text": [
      "time: 31.4 ms\n"
     ]
    }
   ],
   "source": [
    "replacer = SpellingReplacer()"
   ]
  },
  {
   "cell_type": "markdown",
   "metadata": {},
   "source": [
    "## Tokenizations"
   ]
  },
  {
   "cell_type": "code",
   "execution_count": 7,
   "metadata": {
    "collapsed": false
   },
   "outputs": [
    {
     "name": "stdout",
     "output_type": "stream",
     "text": [
      "time: 1.53 ms\n"
     ]
    }
   ],
   "source": [
    "# define tokenizer\n",
    "# jar_path = '/Users/katherineyu/tools/stanford-postagger-2016-10-31/stanford-postagger.jar'\n",
    "# model_path = '/Users/katherineyu/tools/stanford-postagger-2016-10-31/models/english-bidirectional-distsim.tagger'\n",
    "# tokenizer = StanfordTokenizer(path_to_jar=jar_path, encoding='utf8', options=None, verbose=True, java_options='-mx2000m')\n",
    "# print tokenizer.tokenize('Hello world.')"
   ]
  },
  {
   "cell_type": "code",
   "execution_count": 7,
   "metadata": {
    "collapsed": false
   },
   "outputs": [
    {
     "name": "stdout",
     "output_type": "stream",
     "text": [
      "(400000,) (400000, 100)\n"
     ]
    },
    {
     "data": {
      "text/html": [
       "<div>\n",
       "<table border=\"1\" class=\"dataframe\">\n",
       "  <thead>\n",
       "    <tr style=\"text-align: right;\">\n",
       "      <th></th>\n",
       "      <th>vocab_idx</th>\n",
       "    </tr>\n",
       "  </thead>\n",
       "  <tbody>\n",
       "    <tr>\n",
       "      <th>the</th>\n",
       "      <td>0</td>\n",
       "    </tr>\n",
       "    <tr>\n",
       "      <th>,</th>\n",
       "      <td>1</td>\n",
       "    </tr>\n",
       "    <tr>\n",
       "      <th>.</th>\n",
       "      <td>2</td>\n",
       "    </tr>\n",
       "    <tr>\n",
       "      <th>of</th>\n",
       "      <td>3</td>\n",
       "    </tr>\n",
       "    <tr>\n",
       "      <th>to</th>\n",
       "      <td>4</td>\n",
       "    </tr>\n",
       "  </tbody>\n",
       "</table>\n",
       "</div>"
      ],
      "text/plain": [
       "     vocab_idx\n",
       "the          0\n",
       ",            1\n",
       ".            2\n",
       "of           3\n",
       "to           4"
      ]
     },
     "execution_count": 7,
     "metadata": {},
     "output_type": "execute_result"
    },
    {
     "name": "stdout",
     "output_type": "stream",
     "text": [
      "time: 10.7 s\n"
     ]
    }
   ],
   "source": [
    "# load glove pretrained vectors\n",
    "gl = pd.read_csv('glove/glove.6B.100d.txt', header=None, sep='\\s+', error_bad_lines=False, quoting=csv.QUOTE_NONE, encoding='utf8')\n",
    "gl_vocab = gl.pop(0)\n",
    "gl_vocab_index = pd.DataFrame({'vocab_idx': gl_vocab.index})\n",
    "gl_vocab_index.index = gl_vocab.values\n",
    "print gl_vocab.shape, gl.shape\n",
    "gl_vocab_index.head(5)"
   ]
  },
  {
   "cell_type": "code",
   "execution_count": 8,
   "metadata": {
    "collapsed": false
   },
   "outputs": [
    {
     "name": "stdout",
     "output_type": "stream",
     "text": [
      "time: 23.9 ms\n"
     ]
    }
   ],
   "source": [
    "from nltk.tokenize.stanford import StanfordTokenizer\n",
    "from nltk.tokenize import word_tokenize\n",
    "import string\n",
    "class TokenizerWorker(object):\n",
    "    \n",
    "    def __init__(self, gl_vocab_index, gl, spellreplacer):\n",
    "#         self.tokenizer = tokenizer\n",
    "        self.gl_vocab_index = gl_vocab_index\n",
    "        self.gl = gl\n",
    "        self.spellreplacer = spellreplacer\n",
    "    \n",
    "    def tokenize(self, s):\n",
    "#         tokens = self.tokenizer.tokenize(s)\n",
    "#         tokens =  re.findall(r\"[\\w']+\", s)\n",
    "        try:\n",
    "            s = re.sub(r'[^\\w\\s]','', s.encode('utf-8').lower())\n",
    "        except:\n",
    "            return [s]\n",
    "        tokens = word_tokenize(s) # lower and strip punctuation\n",
    "        tokens_postprocess = tokens\n",
    "        return tokens_postprocess\n",
    "    \n",
    "    def __call__(self, s):\n",
    "\n",
    "        tokens = self.tokenize(s)\n",
    "        s_vect = np.zeros((1, self.gl.shape[1]))\n",
    "        missing_word = False\n",
    "        \n",
    "        for word in tokens: # sum glove vectors\n",
    "            try:\n",
    "                s_vect += self.gl.iloc[self.gl_vocab_index.ix[word], :]\n",
    "            except KeyError:\n",
    "                missing_word = True\n",
    "            except TypeError:\n",
    "                continue\n",
    "        \n",
    "        if missing_word: # rerun with spellcheck\n",
    "            tokens = self.spellreplacer.replace(tokens)\n",
    "            s_vect = np.zeros((1, self.gl.shape[1]))\n",
    "            for word in tokens:\n",
    "                try:\n",
    "                    s_vect += self.gl.iloc[self.gl_vocab_index.ix[word], :]\n",
    "                except (KeyError, TypeError) as e:\n",
    "                    pass\n",
    "            s = ' '.join(tokens)\n",
    "\n",
    "        return (s, s_vect)"
   ]
  },
  {
   "cell_type": "code",
   "execution_count": 14,
   "metadata": {
    "collapsed": false,
    "scrolled": true
   },
   "outputs": [
    {
     "name": "stdout",
     "output_type": "stream",
     "text": [
      "Which one dissolve in water quikly sugar, salt, methane and carbon di oxide?\n",
      "quikly\n",
      "Astrology: I am a Capricorn Sun Cap moon and cap rising...what does that say about me?\n",
      "risingwhat\n",
      "Motorola (company): Can I hack my Charter Motorolla DCX3400?\n",
      "motorolla\n",
      "Motorola (company): Can I hack my Charter Motorolla DCX3400?\n",
      "dcx3400\n",
      "Method to find separation of slits using fresnel biprism?\n",
      "biprism\n",
      "I'm a 19-year-old. How can I improve my skills or what should I do to become an entrepreneur in the next few years?\n",
      "19yearold\n",
      "What universities does Rexnord recruit new grads from? What majors are they looking for?\n",
      "rexnord\n",
      "What is the best/most memorable thing you've ever eaten and why?\n",
      "bestmost\n",
      "What is the best/most memorable thing you've ever eaten and why?\n",
      "youve\n",
      "Who is israil friend?\n",
      "israil\n",
      "How do I download content from a kickass torrent without registration?\n",
      "kickass\n",
      "What were the major effects of the cambodia earthquake, and how do these effects compare to the Kamchatca earthquakes in 1952?\n",
      "kamchatca\n",
      "National Institute of Technology, Kurukshetra: How is the social life at NITK, Surathkal?\n",
      "nitk\n",
      "Why is the number for Skype at 1-855-425-3768 always busy?\n",
      "18554253768\n",
      "1098 14 0.0125899280576 0\n",
      "time: 1.01 s\n"
     ]
    }
   ],
   "source": [
    "# test the token match without spell_check\n",
    "n = 100\n",
    "match_ct = 0\n",
    "nonmatch_ct = 0\n",
    "tot_nonmatch_ct = 0\n",
    "\n",
    "tokenizer_worker = TokenizerWorker(gl_vocab_index, gl, replacer)\n",
    "for s in quora['question1'].values[:n]:\n",
    "    s_vect = np.zeros((1, gl.shape[1]))\n",
    "    tokens = tokenizer_worker.tokenize(s)\n",
    "    has_match = False\n",
    "    for word in tokens:\n",
    "        if word in gl_vocab_index.index:\n",
    "            s_vect += gl.iloc[gl_vocab_index.ix[word], :]\n",
    "            match_ct += 1\n",
    "            has_match = True\n",
    "        else:\n",
    "            nonmatch_ct += 1\n",
    "            print s\n",
    "            print word\n",
    "    if not has_match:\n",
    "        tot_nonmatch_ct += 1\n",
    "print match_ct, nonmatch_ct, nonmatch_ct/(match_ct + nonmatch_ct + 0.0), tot_nonmatch_ct"
   ]
  },
  {
   "cell_type": "code",
   "execution_count": 9,
   "metadata": {
    "collapsed": false
   },
   "outputs": [
    {
     "data": {
      "text/plain": [
       "[u'which',\n",
       " u'one',\n",
       " u'dissolve',\n",
       " u'in',\n",
       " u'water',\n",
       " u'quickly',\n",
       " u'sugar',\n",
       " u'salt',\n",
       " u'methane',\n",
       " u'and',\n",
       " u'carbon',\n",
       " u'id',\n",
       " u'oxide']"
      ]
     },
     "execution_count": 9,
     "metadata": {},
     "output_type": "execute_result"
    },
    {
     "name": "stdout",
     "output_type": "stream",
     "text": [
      "time: 107 ms\n"
     ]
    }
   ],
   "source": [
    "# test spellcheck\n",
    "input1 = \"Which one dissolve in water quikly sugar, salt, methane and carbon di oxide?\"\n",
    "tokenizer_worker = TokenizerWorker(gl_vocab_index, gl, replacer)\n",
    "replacer.replace(tokenizer_worker.tokenize(input1))"
   ]
  },
  {
   "cell_type": "code",
   "execution_count": 10,
   "metadata": {
    "collapsed": false
   },
   "outputs": [],
   "source": [
    "# test run\n",
    "replacer = SpellingReplacer()\n",
    "tokenizer_worker = TokenizerWorker(gl_vocab_index, gl, replacer)\n",
    "zip(*quora.question1[:10000].map(tokenizer_worker))"
   ]
  },
  {
   "cell_type": "code",
   "execution_count": 11,
   "metadata": {
    "collapsed": false
   },
   "outputs": [
    {
     "name": "stdout",
     "output_type": "stream",
     "text": [
      "8\n",
      "tokenizing question 1\n",
      "done\n",
      "saving tokenization...\n",
      "tokenizing question 2\n",
      "done\n",
      "saving tokenization...\n",
      "time: 44min 53s\n"
     ]
    }
   ],
   "source": [
    "# Tokenize question 1 and question 2\n",
    "cpu_ct = mp.cpu_count(); print cpu_ct\n",
    "pool = mp.pool.Pool(cpu_ct)\n",
    "\n",
    "tokenizer_worker = TokenizerWorker(gl_vocab_index, gl, replacer)\n",
    "\n",
    "print 'tokenizing question 1'\n",
    "tok_question1 = pool.map(tokenizer_worker, quora.question1)\n",
    "print 'done'\n",
    "\n",
    "print 'saving tokenization...'\n",
    "with open('data/tokenized_question1_%s.pkl' % time.time(), 'w') as f:\n",
    "    pickle.dump(tok_question1, f)\n",
    "\n",
    "\n",
    "print 'tokenizing question 2'\n",
    "tok_question2 = pool.map(tokenizer_worker, quora.question2)\n",
    "print 'done'\n",
    "\n",
    "print 'saving tokenization...'\n",
    "with open('data/tokenized_question2_%s.pkl' % time.time(), 'w') as f:\n",
    "    pickle.dump(tok_question2, f)\n",
    "\n",
    "\n",
    "pool.close()"
   ]
  },
  {
   "cell_type": "code",
   "execution_count": 24,
   "metadata": {
    "collapsed": false
   },
   "outputs": [
    {
     "name": "stdout",
     "output_type": "stream",
     "text": [
      "(404351, 100)\n",
      "(404351, 100)\n",
      "time: 4.4 s\n"
     ]
    }
   ],
   "source": [
    "# munge tokenizations\n",
    "wv1 = zip(*tok_question1)[1] \n",
    "emb_q1 = np.vstack(wv1)\n",
    "print emb_q1.shape\n",
    "\n",
    "wv2 = zip(*tok_question2)[1] \n",
    "emb_q2 = np.vstack(wv2)\n",
    "print emb_q2.shape\n",
    "\n",
    "emb_q1q2 = np.hstack((emb_q1, emb_q2)) \n",
    "print emb_q1q2.shape"
   ]
  },
  {
   "cell_type": "code",
   "execution_count": 28,
   "metadata": {
    "collapsed": false
   },
   "outputs": [
    {
     "name": "stdout",
     "output_type": "stream",
     "text": [
      "time: 1min 14s\n"
     ]
    }
   ],
   "source": [
    "# save tokenization as numpy array\n",
    "np.savetxt(\"data/embedding_q1q2_%s.csv\" % time.time(), emb_q1q2, delimiter=\",\")"
   ]
  },
  {
   "cell_type": "code",
   "execution_count": null,
   "metadata": {
    "collapsed": false
   },
   "outputs": [],
   "source": [
    "# tokenizer_worker = TokenizerWorker(tokenizer, gl_vocab_index, gl, replacer)\n",
    "# quora.question2.map(tokenizer_worker)"
   ]
  },
  {
   "cell_type": "code",
   "execution_count": 33,
   "metadata": {
    "collapsed": false
   },
   "outputs": [
    {
     "name": "stdout",
     "output_type": "stream",
     "text": [
      "time: 2min 14s\n"
     ]
    }
   ],
   "source": [
    "with open('data/tokenized_question1_1486096656.54.pkl') as f:\n",
    "    tok_question1 = pickle.load(f)\n",
    "with open('data/tokenized_question2_1486103937.45.pkl') as f:\n",
    "    tok_question2 = pickle.load(f)"
   ]
  },
  {
   "cell_type": "code",
   "execution_count": 18,
   "metadata": {
    "collapsed": false
   },
   "outputs": [
    {
     "name": "stdout",
     "output_type": "stream",
     "text": [
      "time: 348 ms\n"
     ]
    }
   ],
   "source": [
    "from sklearn.cross_validation import train_test_split\n",
    "q1_train, q2_train, q1_test, q2_test, ytrain, ytest = train_test_split(tok_question1, tok_question2, quora.is_duplicate.values)"
   ]
  },
  {
   "cell_type": "code",
   "execution_count": 19,
   "metadata": {
    "collapsed": false
   },
   "outputs": [
    {
     "name": "stdout",
     "output_type": "stream",
     "text": [
      "time: 1.46 s\n"
     ]
    }
   ],
   "source": [
    "train_sim = [cosine_similarity(q1_train[i][1], q2_train[i][1])[0,0] for i in range(10000)]\n",
    "ytrain = ytrain[:10000]"
   ]
  },
  {
   "cell_type": "code",
   "execution_count": 20,
   "metadata": {
    "collapsed": false
   },
   "outputs": [
    {
     "name": "stdout",
     "output_type": "stream",
     "text": [
      "time: 1.67 ms\n"
     ]
    }
   ],
   "source": [
    "train_sim = np.array(train_sim)"
   ]
  },
  {
   "cell_type": "code",
   "execution_count": 21,
   "metadata": {
    "collapsed": false
   },
   "outputs": [
    {
     "data": {
      "image/png": "[encoded data removed]",
      "text/plain": [
       "<matplotlib.figure.Figure at 0x13d302b10>"
      ]
     },
     "metadata": {},
     "output_type": "display_data"
    },
    {
     "name": "stdout",
     "output_type": "stream",
     "text": [
      "time: 761 ms\n"
     ]
    }
   ],
   "source": [
    "plt.hist(train_sim[np.where(ytrain==1)[0]], normed=True, alpha=0.3, label='positive', bins=100)\n",
    "plt.hist(train_sim[np.where(ytrain==0)[0]], normed=True, alpha=0.3, label='negative', bins=100)\n",
    "plt.legend();"
   ]
  },
  {
   "cell_type": "code",
   "execution_count": 34,
   "metadata": {
    "collapsed": false
   },
   "outputs": [
    {
     "name": "stdout",
     "output_type": "stream",
     "text": [
      "0.377379983727 0.625235912645 0.470671808403\n",
      "time: 51.7 ms\n"
     ]
    }
   ],
   "source": [
    "thres = 0.85\n",
    "pred = train_sim > thres\n",
    "p = sum(np.logical_and(pred==1, ytrain==1)) / float(sum(pred))\n",
    "r = sum(np.logical_and(pred==1, ytrain==1)) / float(sum(ytrain==1))\n",
    "print p, r, 2*p*r/(p+r)"
   ]
  },
  {
   "cell_type": "code",
   "execution_count": 8,
   "metadata": {
    "collapsed": false,
    "scrolled": true
   },
   "outputs": [
    {
     "name": "stdout",
     "output_type": "stream",
     "text": [
      "What is the step by step guide to invest in share market? What is the step by step guide to invest in share market in india?\n",
      "0.994985474829 0\n",
      "What would happen if the Indian government stole the Kohinoor (Koh-i-Noor) diamond back? What is the story of Kohinoor (Koh-i-Noor) Diamond?\n",
      "0.890191977161 0\n",
      "How can Internet speed be increased by hacking through DNS? How can I increase the speed of my internet connection while using a VPN?\n",
      "0.961039587557 0\n",
      "find the remainder when math2324math is divided by 2423 Why am I mentally very lonely? How can I solve it?\n",
      "0.817308079324 0\n",
      "Which fish would survive in salt water? which one dissolve in water quickly sugar salt methane and carbon id oxide\n",
      "0.919948337727 0\n",
      "I'm a triple Capricorn (Sun, Moon and ascendant in Capricorn) What does this say about me? astrology I am a Capricorn sun cap moon and cap rising what does that say about me\n",
      "0.964879978034 1\n",
      "what keeps children active and far from phone and video games Should I buy tiago?\n",
      "0.781134639535 0\n",
      "What should I do to be a great geologist? How can I be a good geologist?\n",
      "0.986442144197 1\n",
      "When do you use \"&\" instead of \"and\"? When do you use シ instead of し?\n",
      "0.997254960514 0\n",
      "how do I hack Motorola dcx3400 for free Internet Motorola company can I hack my charter Motorola dcx3400\n",
      "0.922937048051 0\n",
      "What are some of the things technicians can tell about the durability and reliability of Laptops and its components? method to find separation of slits using Fresnel bi prism\n",
      "0.900472892674 0\n",
      "How can I see all my Youtube comments? How do I read and find my YouTube comments?\n",
      "0.992408958166 1\n",
      "How can you make physics easy to learn? What can make Physics easy to learn?\n",
      "0.99594058549 1\n",
      "What was your first sexual experience? What was your first sexual experience like?\n",
      "0.994850634373 1\n",
      "What are the laws to change your status from a student visa to a green card in the US? How do they compare to the immigration laws in Japan? What are the laws to change your status from a student visa to a green card in the US, how do they compare to the immigration laws in Canada?\n",
      "0.999115509294 0\n",
      "How will a Trump presidency affect the students presently in US or planning to study in US? What would a Trump presidency mean for current international master’s students on an F1 visa?\n",
      "0.955003324554 1\n",
      "What does manipulation means? What does manipulation mean?\n",
      "0.99257258235 1\n",
      "How do guys feel after rejecting a girl? Why do girls want to be friends with the guy they reject?\n",
      "0.970055596134 0\n",
      "Why do people ask Quora questions which can be answered easily by Google? Why are so many Quora users posting questions that are readily answered on Google?\n",
      "0.974665435745 1\n",
      "Which is the best digital marketing institute in Pune? Which is the best digital marketing institution in banglore?\n",
      "0.984616985529 0\n",
      "Why are rockets and boosters painted white? Why do rockets look white?\n",
      "0.92818095949 1\n",
      "What can I do to avoid being jealous of someone? What's causing someone to be jealous?\n",
      "0.963083442376 0\n",
      "Which question should I ask on Quora? What are the questions should not ask on Quora?\n",
      "0.984931499981 0\n",
      "Where can I find a conversion chart for CC to horsepower? How much is 30 kV in HP?\n",
      "0.931097971492 0\n",
      "How many times a day do a clock’s hands overlap? What does it mean that every time I look at the clock the numbers are the same?\n",
      "0.978525052896 0\n",
      "What are some tips on making it through the job interview process at Foundation Medicine? What are some tips on making it through the job interview process at Medicines?\n",
      "0.992619090255 0\n",
      "What is the web application framework? What is web application?\n",
      "0.974344881031 0\n",
      "How do sports contribute to the society? Does society place too much importance on sports?\n",
      "0.970908772602 0\n",
      "What is best way to ask for money online? What is best way to make money online?\n",
      "0.99629977145 0\n",
      "how one should know that he she completely prepare for Ca final exam How should I prepare for CA final law?\n",
      "0.979193335005 1\n",
      "What's one thing you do despite knowing better? What's one thing you would like to do better?\n",
      "0.984463873378 0\n",
      "How can I keep my nose from getting stuffy at night? What are some special cares for someone with a nose that gets stuffy during the night?\n",
      "0.953752576898 1\n",
      "What Game of Thrones villain would you most like to be at the mercy of? What Game of Thrones villain would be the most likely to give you mercy?\n",
      "0.99107200303 1\n",
      "How is the average speed of gas molecules determined? Does the United States government still blacklist (employment, etc.) some United States citizens because their political views?\n",
      "0.841740062356 0\n",
      "What is the best travel website? What is the best travel website in spain?\n",
      "0.980858722085 0\n",
      "Has there been a gun control initiative to take away guns people already own? Why do some people think Obama will try to take their guns away?\n",
      "0.948199641544 0\n",
      "I am a 19 year old guy. How can I become a billionaire in the next 10 years? mi a 19yearold how can I improve my skills or what should I do to become an entrepreneur in the next few years\n",
      "0.956708464533 0\n",
      "My girlfriend said that we should end this because she is confused about her feelings for me. I wished her well and disconnected. Should I call her and ask her if she wants to get back together? When a girlfriend asks her boyfriend \"Why did you choose me? What makes you want to be with me?\", what should one reply to her?\n",
      "0.988787220755 0\n",
      "How do I prepare for civil service? How do we prepare for UPSC?\n",
      "0.962474213361 1\n",
      "why did aircraft stop using variable sweep wings like those on an f14 What is the stall speed and AOA of an f-14 with wings fully swept back?\n",
      "0.946981025146 0\n",
      "Will squats make my legs thicker? Why do Slavs squat?\n",
      "0.743634717249 0\n",
      "When can I expect Cognizant confirmation mail? When can I expect my Cognizant confirmation mail?\n",
      "0.993072620004 0\n",
      "Can I make 30,000 a month by day trading? Can I make 50,000 a month by day trading?\n",
      "0.997699187287 0\n",
      "Is being bored good for a kid? Is being a good kid and not being a rebel worth it in the long run?\n",
      "0.954503140776 0\n",
      "What universities does B&G Foods recruit new grads from? What majors are they looking for? what universities does rexnord recruit new drags from what majors are they looking for\n",
      "0.984233048497 0\n",
      "How can we increase our number of Instagram followers? What is the quickest way to increase Instagram followers?\n",
      "0.958920883988 0\n",
      "Does Quora have a character limit for profile descriptions? How did Darth Vader fought Darth Maul in Star Wars Legends?\n",
      "0.619763921998 0\n",
      "Who is affected more by a breakup, the boy or the girl? What are the stages of breaking up between couple? I mean, what happens after the breaking up emotionally whether its a male or female?\n",
      "0.965970631942 0\n",
      "What are some of the products made from crude oil? What are some examples of products that can be make from crude oil?\n",
      "0.985284951474 1\n",
      "How to make friends ? How do I make friends.\n",
      "0.972315710588 1\n",
      "How is career launcher online program for RBI Grade B? Is Career Launcher good for RBI Grade B preparation?\n",
      "0.965330037422 1\n",
      "How can you play a Blu Ray DVD on a regular DVD player? Will a Blu Ray play on a regular DVD player? If so, how?\n",
      "0.987166603553 1\n",
      "Aerodynamically what happens when propellor rotates? Nd she is always sad?\n",
      "0.756726435791 0\n",
      "what is the most delicious dish you've ever eaten and why what is the best most memorable thing you've ever eaten and why\n",
      "0.973452421468 1\n",
      "Why can't I do my homework? How GST affects the CAs and tax officers?\n",
      "0.6727422549 0\n",
      "Do you apply for programs like RSI when you're a rising senior? How difficult is it get into RSI?\n",
      "0.950180863242 0\n",
      "Is my boyfriend lying about his true feelings for his friend and is he secretly attracted to her? who is is rail friend\n",
      "0.932553404329 0\n",
      "What are some of the best rap songs? What are some good rap songs to dance to?\n",
      "0.984301187794 0\n",
      "I can't remember my Gmail password or my recovery email. How can I recover my e-mail? I was suddenly logged off Gmail. I can't remember my Gmail password and just realized the recovery email is no longer alive. What can I do?\n",
      "0.966047510338 1\n",
      "How do I learn french genders? What are the best ways to learn French?\n",
      "0.927471697686 0\n",
      "is kick ass torrents trustworthy how do I download content from a kick ass torrent without registration\n",
      "0.697587342378 0\n",
      "What causes a dark ring around the iris? How should it be treated? Is it normal to have a dark ring around the iris of my eye?\n",
      "0.983022484106 0\n",
      "How bad is the new book by J.K Rowling? How is the new Harry Potter book 'Harry Potter and the Cursed Child'?\n",
      "0.931626565023 1\n",
      "Why do I always get depressed in the evening? Why do I always get depressed?\n",
      "0.964120648383 0\n",
      "Where do I find a U.S. family office database? Where can I find a European family office database?\n",
      "0.985269403452 0\n",
      "How do I learn a computer language like java? What is Java programming? How To Learn Java Programming Language ?\n",
      "0.940049379594 1\n",
      "What is the most important book you have ever read? What is the best book ever made?\n",
      "0.979191685524 1\n",
      "Is it possible to store the energy of lightning? Can we ever store energy produced in lightning?\n",
      "0.963714651134 1\n",
      "What is performance testing? What is your review of Performance Testing?\n",
      "0.975528682708 0\n",
      "Are there any people who genuinely enjoy salad with no dressing? At what cost does so much privacy as in Germany come? What else is lost to gain so much privacy?\n",
      "0.897316310174 0\n",
      "What are the different types of immunity in our body? What are the types of immunity?\n",
      "0.989700549344 0\n",
      "What is narcissistic personality disorder? What is a narcissistic personality disorder?\n",
      "0.985098966262 1\n",
      "How can I learn to speak English fluently? How I can speak English fluently?\n",
      "0.99215355177 1\n",
      "What is the quickbooks customer support phone number USA? How helpful is QuickBooks' auto data recovery support phone number to recover your corrupted data files?\n",
      "0.926093654361 1\n",
      "Who is the richest gambler of all time and how can I reach his level as a gambler? Who is the richest gambler of all time and how can I reach his level?\n",
      "0.996430638575 1\n",
      "Do bullets travel faster than the speed of sound when shot from a gun? If not, is it possible? If they do, what gun and how much devastation occurs? If I fire a bullet backward from an aircraft going faster than the bullet; will the bullet be going backwards?\n",
      "0.973238322532 0\n",
      "Is breast cancer preventable? How do I prevent breast cancer?\n",
      "0.809784428216 0\n",
      "How can I know who logged in to my Gmail account? (by telling his IP address or device name)? How do I log out of my Gmail account on my friend's phone?\n",
      "0.976203761786 0\n",
      "What are some different ways to make money online, excluding selling things? How can I make money through the Internet?\n",
      "0.960015982125 0\n",
      "What's the purpose of life? What is life actually about? What is purpose of life?\n",
      "0.986153701412 1\n",
      "why India does not apply the burmarohingya model to deport illegal Bangladeshi When will the BJP government strip all the Muslims and the Christians of the Indian citizenship and put them on boats like the Rohingya's of Burma?\n",
      "0.882667798176 0\n",
      "How important is it to be the first person to wish someone a happy birthday? What is the right etiquette for wishing a Jehovah Witness happy birthday?\n",
      "0.966966359414 0\n",
      "I want to make a travel commercial clip video d for India and new Zealand how much will it cost If someone wants to open a commercial FM radio station in any city of India, how much does it cost and what is the procedure?\n",
      "0.971358614712 0\n",
      "Why do technical employees despise sales people so much? Why do Swiss despise Asians?\n",
      "0.857738917379 0\n",
      "What are some high paying jobs for a fresher with an M.Tech in biotechnology? What are some of the high salary income jobs in the field of biotechnology?\n",
      "0.965798961111 1\n",
      "Can height increase after 25? How can I increase my height after 21 also?\n",
      "0.935212017774 1\n",
      "What were the major effects of the cambodia earthquake, and how do these effects compare to the Valparaiso earthquake in 1822? what were the major effects of the Cambodia earthquake and how do these effects compare to the kamchatca earthquakes in 1952\n",
      "0.993428026991 1\n",
      "What's the difference between honest and sincere? What is the difference between sincerity and fairness?\n",
      "0.950451884499 0\n",
      "Which is the best gaming laptop under Rs 60000? Which is the best gaming laptop under 60k INR?\n",
      "0.968829524105 1\n",
      "What is your review of The Next Warrior: Proving Grounds - Part 5? What is your review of The Next Warrior: Proving Grounds - Part 9?\n",
      "0.99963809363 0\n",
      "Which book should I choose for reference for physics and chemistry (class 11, CBSE board)? What is the best reference book for physics class 11th?\n",
      "0.951816821326 0\n",
      "national institute of technology karnataka nit surathkal to the graduating batch what lessons would you want to give to your juniors before you leave national institute of technology kurukshetra how is the social life at nit surathkal\n",
      "0.907119091504 0\n",
      "What is the best romantic movie you have ever seen? What are some of the best romantic movies in English?\n",
      "0.962691608173 1\n",
      "What causes nightmares that seem real? What causes a nightmare?\n",
      "0.938754931762 1\n",
      "What are some of the major influences of abstract expressionism? What is abstract expressionism in painting?\n",
      "0.900599866884 0\n",
      "How do 3D printing work? How does 3D printing work?\n",
      "0.991765064144 1\n",
      "Who are some notable folks who attended Caltech? What was it like to attend Caltech with Jeremy Ehrhardt?\n",
      "0.889838536618 0\n",
      "What is a Horcrux? Why did harry become a horcrux?\n",
      "0.928219969547 0\n",
      "What are the general requirement to become a Product Manager or a Program Manager in a product based software company? What are the best associate product manager (APM) programs that someone in their early 20s can join to learn product management and have a rewarding career in the company?\n",
      "0.967579885949 0\n",
      "How could I get Skype to work on an android 4.1.1 phone? why is the number for Skye at 18554253768 always busy\n",
      "0.912360087153 0\n",
      "time: 28.9 ms\n"
     ]
    }
   ],
   "source": [
    "# validation that word vectors are close\n",
    "from sklearn.metrics.pairwise import cosine_similarity\n",
    "for i in range(100):\n",
    "    print tok_question2[i][0], tok_question1[i][0]\n",
    "    print cosine_similarity(tok_question2[i][1], tok_question1[i][1])[0,0], quora.is_duplicate.values[i]"
   ]
  },
  {
   "cell_type": "code",
   "execution_count": null,
   "metadata": {
    "collapsed": true
   },
   "outputs": [],
   "source": [
    "# string featurizations (shingling, jacquard), character deeplearning byte-pair encoding, snli\n",
    "# specific first architecture: lstm with attention"
   ]
  },
  {
   "cell_type": "code",
   "execution_count": null,
   "metadata": {
    "collapsed": true
   },
   "outputs": [],
   "source": []
  },
  {
   "cell_type": "markdown",
   "metadata": {},
   "source": [
    "## conll format"
   ]
  },
  {
   "cell_type": "code",
   "execution_count": 30,
   "metadata": {
    "collapsed": false,
    "scrolled": true
   },
   "outputs": [
    {
     "name": "stdout",
     "output_type": "stream",
     "text": [
      "time: 1.82 ms\n"
     ]
    }
   ],
   "source": [
    "from nltk.tokenize import word_tokenize\n",
    "from enchant.checker import SpellChecker\n",
    "\n",
    "\n",
    "EOS_CHAR = 'zzzz'"
   ]
  },
  {
   "cell_type": "code",
   "execution_count": 11,
   "metadata": {
    "collapsed": false
   },
   "outputs": [
    {
     "name": "stdout",
     "output_type": "stream",
     "text": [
      "loading data...\n",
      "(404351, 6)\n"
     ]
    },
    {
     "data": {
      "text/html": [
       "<div>\n",
       "<table border=\"1\" class=\"dataframe\">\n",
       "  <thead>\n",
       "    <tr style=\"text-align: right;\">\n",
       "      <th></th>\n",
       "      <th>id</th>\n",
       "      <th>qid1</th>\n",
       "      <th>qid2</th>\n",
       "      <th>question1</th>\n",
       "      <th>question2</th>\n",
       "      <th>is_duplicate</th>\n",
       "    </tr>\n",
       "  </thead>\n",
       "  <tbody>\n",
       "    <tr>\n",
       "      <th>0</th>\n",
       "      <td>0</td>\n",
       "      <td>1</td>\n",
       "      <td>2</td>\n",
       "      <td>What is the step by step guide to invest in sh...</td>\n",
       "      <td>What is the step by step guide to invest in sh...</td>\n",
       "      <td>0</td>\n",
       "    </tr>\n",
       "    <tr>\n",
       "      <th>1</th>\n",
       "      <td>1</td>\n",
       "      <td>3</td>\n",
       "      <td>4</td>\n",
       "      <td>What is the story of Kohinoor (Koh-i-Noor) Dia...</td>\n",
       "      <td>What would happen if the Indian government sto...</td>\n",
       "      <td>0</td>\n",
       "    </tr>\n",
       "  </tbody>\n",
       "</table>\n",
       "</div>"
      ],
      "text/plain": [
       "   id  qid1  qid2                                          question1  \\\n",
       "0   0     1     2  What is the step by step guide to invest in sh...   \n",
       "1   1     3     4  What is the story of Kohinoor (Koh-i-Noor) Dia...   \n",
       "\n",
       "                                           question2  is_duplicate  \n",
       "0  What is the step by step guide to invest in sh...             0  \n",
       "1  What would happen if the Indian government sto...             0  "
      ]
     },
     "execution_count": 11,
     "metadata": {},
     "output_type": "execute_result"
    },
    {
     "name": "stdout",
     "output_type": "stream",
     "text": [
      "time: 1.2 s\n"
     ]
    }
   ],
   "source": [
    "print 'loading data...'\n",
    "quora = pd.read_csv('data/quora_duplicate_questions.tsv', sep='\\t', encoding='utf-8')\n",
    "print quora.shape\n",
    "quora.head(2)"
   ]
  },
  {
   "cell_type": "code",
   "execution_count": 31,
   "metadata": {
    "collapsed": false
   },
   "outputs": [
    {
     "name": "stdout",
     "output_type": "stream",
     "text": [
      "time: 17.1 ms\n"
     ]
    }
   ],
   "source": [
    "# replacer = SpellingReplacer()\n",
    "np.random.seed(0)\n",
    "\n",
    "def tokenize_quora_row(row, file_dict):\n",
    "    # tokenize\n",
    "    try:\n",
    "        q1_tok = word_tokenize(row['question1'])\n",
    "        q2_tok = word_tokenize(row['question2'])\n",
    "        conll_entry_a = '\\n'.join(q1_tok) + '\\n\\n'\n",
    "        conll_entry_a = conll_entry_a.encode('utf-8')\n",
    "        conll_entry_b = '\\n'.join(q2_tok) + '\\n\\n'\n",
    "        conll_entry_b = conll_entry_b.encode('utf-8')        \n",
    "        label_entry = str(row['is_duplicate'])+'\\n'\n",
    "    except:  # encoding errors, not str, etc.\n",
    "        return\n",
    "    \n",
    "    # split train/dev/test\n",
    "    x = np.random.random()\n",
    "    if x < .6:\n",
    "        k = 'train'\n",
    "    elif x < .8:\n",
    "        k = 'dev'\n",
    "    else: \n",
    "        k = 'test'\n",
    "    \n",
    "    # write\n",
    "    fa, fb, flab = file_dict[k]['fa'], file_dict[k]['fb'], file_dict[k]['flab']\n",
    "    fa.write(conll_entry_a)\n",
    "    fb.write(conll_entry_b)\n",
    "    flab.write(label_entry)\n"
   ]
  },
  {
   "cell_type": "code",
   "execution_count": 53,
   "metadata": {
    "collapsed": false
   },
   "outputs": [
    {
     "name": "stdout",
     "output_type": "stream",
     "text": [
      "time: 2min 40s\n"
     ]
    }
   ],
   "source": [
    "# tokenize conll\n",
    "with open('data/dat_train_a.conll', 'w') as trainaf:\n",
    "    with open('data/dat_train_b.conll', 'w') as trainbf:\n",
    "        with open('data/labels_train.conll', 'w') as trainlabelf:\n",
    "            with open('data/dat_dev_a.conll', 'w') as devaf:\n",
    "                with open('data/dat_dev_b.conll', 'w') as devbf:\n",
    "                    with open('data/labels_dev.conll', 'w') as devlabelf:        \n",
    "                        with open('data/dat_test_a.conll', 'w') as testaf:\n",
    "                            with open('data/dat_test_b.conll', 'w') as testbf:\n",
    "                                with open('data/labels_test.conll', 'w') as testlabelf:\n",
    "                                    file_dict = {\n",
    "                                        'train': {'fa': trainaf, 'fb': trainbf, 'flab': trainlabelf},\n",
    "                                        'dev': {'fa': devaf, 'fb': devbf, 'flab': devlabelf},\n",
    "                                        'test': {'fa': testaf, 'fb': testbf, 'flab': testlabelf}\n",
    "                                    }\n",
    "                                    tok_conll = quora.apply(lambda x: tokenize_quora_row(x, file_dict), axis=1)"
   ]
  },
  {
   "cell_type": "code",
   "execution_count": 32,
   "metadata": {
    "collapsed": false
   },
   "outputs": [
    {
     "name": "stdout",
     "output_type": "stream",
     "text": [
      "time: 2.35 s\n"
     ]
    }
   ],
   "source": [
    "# tokenize conll small\n",
    "with open('data/sm_dat_train_a.conll', 'w') as trainaf:\n",
    "    with open('data/sm_dat_train_b.conll', 'w') as trainbf:\n",
    "        with open('data/sm_labels_train.conll', 'w') as trainlabelf:\n",
    "            with open('data/sm_dat_dev_a.conll', 'w') as devaf:\n",
    "                with open('data/sm_dat_dev_b.conll', 'w') as devbf:\n",
    "                    with open('data/sm_labels_dev.conll', 'w') as devlabelf:        \n",
    "                        with open('data/sm_dat_test_a.conll', 'w') as testaf:\n",
    "                            with open('data/sm_dat_test_b.conll', 'w') as testbf:\n",
    "                                with open('data/sm_labels_test.conll', 'w') as testlabelf:\n",
    "                                    file_dict = {\n",
    "                                        'train': {'fa': trainaf, 'fb': trainbf, 'flab': trainlabelf},\n",
    "                                        'dev': {'fa': devaf, 'fb': devbf, 'flab': devlabelf},\n",
    "                                        'test': {'fa': testaf, 'fb': testbf, 'flab': testlabelf}\n",
    "                                    }\n",
    "                                    tok_conll = quora.head(5000).apply(lambda x: tokenize_quora_row(x, file_dict), axis=1)"
   ]
  },
  {
   "cell_type": "code",
   "execution_count": null,
   "metadata": {
    "collapsed": true
   },
   "outputs": [],
   "source": []
  }
 ],
 "metadata": {
  "anaconda-cloud": {},
  "kernelspec": {
   "display_name": "Python [default]",
   "language": "python",
   "name": "python2"
  },
  "language_info": {
   "codemirror_mode": {
    "name": "ipython",
    "version": 2
   },
   "file_extension": ".py",
   "mimetype": "text/x-python",
   "name": "python",
   "nbconvert_exporter": "python",
   "pygments_lexer": "ipython2",
   "version": "2.7.12"
  }
 },
 "nbformat": 4,
 "nbformat_minor": 1
}
